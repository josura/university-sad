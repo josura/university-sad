{
  "nbformat": 4,
  "nbformat_minor": 0,
  "metadata": {
    "colab": {
      "name": "progettoDataAnalysis.ipynb",
      "provenance": [],
      "collapsed_sections": []
    },
    "kernelspec": {
      "name": "python3",
      "display_name": "Python 3"
    }
  },
  "cells": [
    {
      "cell_type": "markdown",
      "metadata": {
        "id": "93-hQY_Xm2Uz"
      },
      "source": [
        "# Analisi sulla felicità"
      ]
    },
    {
      "cell_type": "markdown",
      "metadata": {
        "id": "e1BW0QypnMre"
      },
      "source": [
        "## Contesto"
      ]
    },
    {
      "cell_type": "markdown",
      "metadata": {
        "id": "U4-YTJpNnE53"
      },
      "source": [
        "## Richieste e Obiettivi"
      ]
    },
    {
      "cell_type": "code",
      "metadata": {
        "id": "0yui3KuaUxXt"
      },
      "source": [
        "import pandas as pd"
      ],
      "execution_count": null,
      "outputs": []
    },
    {
      "cell_type": "code",
      "metadata": {
        "id": "5-pyeSEMXte6"
      },
      "source": [
        "dataset = pd.read_csv(\"emotions.csv\")"
      ],
      "execution_count": null,
      "outputs": []
    },
    {
      "cell_type": "code",
      "metadata": {
        "id": "XdZRXQrvX0aR"
      },
      "source": [
        "import matplotlib.pyplot as plt"
      ],
      "execution_count": null,
      "outputs": []
    },
    {
      "cell_type": "code",
      "metadata": {
        "id": "wNU-xKHSs13a"
      },
      "source": [
        "lista = [1,2,3,4,5,6]"
      ],
      "execution_count": 3,
      "outputs": []
    },
    {
      "cell_type": "code",
      "metadata": {
        "colab": {
          "base_uri": "https://localhost:8080/"
        },
        "id": "H8Kz2jhhs30K",
        "outputId": "18fdef43-d797-4ef4-ce11-bd3ac2013e08"
      },
      "source": [
        "lista[1:3]"
      ],
      "execution_count": 4,
      "outputs": [
        {
          "output_type": "execute_result",
          "data": {
            "text/plain": [
              "[2, 3]"
            ]
          },
          "metadata": {
            "tags": []
          },
          "execution_count": 4
        }
      ]
    },
    {
      "cell_type": "code",
      "metadata": {
        "id": "RpH_bv4ZtGnN"
      },
      "source": [
        ""
      ],
      "execution_count": null,
      "outputs": []
    }
  ]
}